{
 "cells": [
  {
   "cell_type": "markdown",
   "metadata": {
    "pycharm": {
     "name": "#%% md\n"
    }
   },
   "source": [
    "# Esercitazione Data Analytics"
   ]
  },
  {
   "cell_type": "markdown",
   "metadata": {
    "pycharm": {
     "name": "#%% md\n"
    }
   },
   "source": [
    "## Importiamo il package pandas e verifichiamo la sua versione"
   ]
  },
  {
   "cell_type": "code",
   "execution_count": 49,
   "metadata": {
    "pycharm": {
     "name": "#%%\n"
    }
   },
   "outputs": [
    {
     "data": {
      "text/plain": "'1.2.0'"
     },
     "execution_count": 49,
     "metadata": {},
     "output_type": "execute_result"
    }
   ],
   "source": [
    "import pandas as pd\n",
    "pd.__version__"
   ]
  },
  {
   "cell_type": "markdown",
   "metadata": {
    "pycharm": {
     "name": "#%% md\n"
    }
   },
   "source": [
    "## Qual è l'output della seguente istruzione?"
   ]
  },
  {
   "cell_type": "code",
   "execution_count": 50,
   "metadata": {
    "pycharm": {
     "name": "#%%\n"
    }
   },
   "outputs": [
    {
     "name": "stdout",
     "output_type": "stream",
     "text": [
      "   fee  foo\n",
      "a  1.0  NaN\n",
      "b  2.0  NaN\n",
      "c  NaN  3.0\n",
      "d  NaN  4.0\n"
     ]
    }
   ],
   "source": [
    "df = pd.DataFrame({'fee':{'a':1, 'b':2}, 'foo':{'c':3, 'd':4}})\n",
    "print(df)"
   ]
  },
  {
   "cell_type": "markdown",
   "metadata": {
    "pycharm": {
     "name": "#%% md\n"
    }
   },
   "source": [
    "## Leggiamo un file da csv"
   ]
  },
  {
   "cell_type": "code",
   "execution_count": 51,
   "metadata": {
    "pycharm": {
     "name": "#%%\n"
    }
   },
   "outputs": [],
   "source": [
    "df = pd.read_csv(\"http://rcs.bu.edu/examples/python/data_analysis/Salaries.csv\")"
   ]
  },
  {
   "cell_type": "markdown",
   "metadata": {
    "pycharm": {
     "name": "#%% md\n"
    }
   },
   "source": [
    "## Recuperiamo i primi 5 elementi (Default)"
   ]
  },
  {
   "cell_type": "code",
   "execution_count": 52,
   "metadata": {
    "pycharm": {
     "name": "#%%\n"
    }
   },
   "outputs": [
    {
     "name": "stdout",
     "output_type": "stream",
     "text": [
      "   rank discipline  phd  service   sex  salary\n",
      "0  Prof          B   56       49  Male  186960\n",
      "1  Prof          A   12        6  Male   93000\n",
      "2  Prof          A   23       20  Male  110515\n",
      "3  Prof          A   40       31  Male  131205\n",
      "4  Prof          B   20       18  Male  104800\n"
     ]
    }
   ],
   "source": [
    "print(df.head())"
   ]
  },
  {
   "cell_type": "markdown",
   "metadata": {},
   "source": [
    "## Recuperiamo i primi 10 elementi"
   ]
  },
  {
   "cell_type": "code",
   "execution_count": 53,
   "metadata": {
    "pycharm": {
     "name": "#%%\n"
    }
   },
   "outputs": [
    {
     "name": "stdout",
     "output_type": "stream",
     "text": [
      "        rank discipline  phd  service   sex  salary\n",
      "0       Prof          B   56       49  Male  186960\n",
      "1       Prof          A   12        6  Male   93000\n",
      "2       Prof          A   23       20  Male  110515\n",
      "3       Prof          A   40       31  Male  131205\n",
      "4       Prof          B   20       18  Male  104800\n",
      "5       Prof          A   20       20  Male  122400\n",
      "6  AssocProf          A   20       17  Male   81285\n",
      "7       Prof          A   18       18  Male  126300\n",
      "8       Prof          A   29       19  Male   94350\n",
      "9       Prof          A   51       51  Male   57800\n"
     ]
    }
   ],
   "source": [
    "print(df.head(10))"
   ]
  },
  {
   "cell_type": "markdown",
   "metadata": {
    "pycharm": {
     "name": "#%% md\n"
    }
   },
   "source": [
    "## Recuperiamo il tipo di una specifica colonna"
   ]
  },
  {
   "cell_type": "code",
   "execution_count": 54,
   "metadata": {
    "pycharm": {
     "name": "#%%\n"
    }
   },
   "outputs": [
    {
     "name": "stdout",
     "output_type": "stream",
     "text": [
      "int64\n"
     ]
    }
   ],
   "source": [
    "print(df['salary'].dtype)"
   ]
  },
  {
   "cell_type": "markdown",
   "metadata": {},
   "source": [
    "## Recuperiamo i tipi di tutte le variabili"
   ]
  },
  {
   "cell_type": "code",
   "execution_count": 55,
   "metadata": {
    "pycharm": {
     "name": "#%%\n"
    }
   },
   "outputs": [
    {
     "name": "stdout",
     "output_type": "stream",
     "text": [
      "rank          object\n",
      "discipline    object\n",
      "phd            int64\n",
      "service        int64\n",
      "sex           object\n",
      "salary         int64\n",
      "dtype: object\n"
     ]
    }
   ],
   "source": [
    "print(df.dtypes)"
   ]
  },
  {
   "cell_type": "markdown",
   "metadata": {
    "pycharm": {
     "name": "#%% md\n"
    }
   },
   "source": [
    "## Quanti record possiede questo Dataframe?"
   ]
  },
  {
   "cell_type": "code",
   "execution_count": 56,
   "metadata": {
    "pycharm": {
     "name": "#%%\n"
    }
   },
   "outputs": [
    {
     "name": "stdout",
     "output_type": "stream",
     "text": [
      "(78, 6)\n"
     ]
    }
   ],
   "source": [
    "print(df.shape)"
   ]
  },
  {
   "cell_type": "markdown",
   "metadata": {
    "pycharm": {
     "name": "#%% md\n"
    }
   },
   "source": [
    "## Quanti elementi ci sono?"
   ]
  },
  {
   "cell_type": "code",
   "execution_count": 57,
   "metadata": {
    "pycharm": {
     "name": "#%%\n"
    }
   },
   "outputs": [
    {
     "name": "stdout",
     "output_type": "stream",
     "text": [
      "468\n"
     ]
    }
   ],
   "source": [
    "print(df.size)"
   ]
  },
  {
   "cell_type": "markdown",
   "metadata": {
    "pycharm": {
     "name": "#%% md\n"
    }
   },
   "source": [
    "## Quali sono i nomi delle colonne?"
   ]
  },
  {
   "cell_type": "code",
   "execution_count": 58,
   "metadata": {
    "pycharm": {
     "name": "#%%\n"
    }
   },
   "outputs": [
    {
     "name": "stdout",
     "output_type": "stream",
     "text": [
      "Index(['rank', 'discipline', 'phd', 'service', 'sex', 'salary'], dtype='object')\n"
     ]
    }
   ],
   "source": [
    "print(df.columns)"
   ]
  },
  {
   "cell_type": "markdown",
   "metadata": {
    "pycharm": {
     "name": "#%% md\n"
    }
   },
   "source": [
    "## Fornire il riepilogo per le colonne numeriche nel set di dati"
   ]
  },
  {
   "cell_type": "code",
   "execution_count": 59,
   "outputs": [
    {
     "data": {
      "text/plain": "             phd    service         salary\ncount  78.000000  78.000000      78.000000\nmean   19.705128  15.051282  108023.782051\nstd    12.498425  12.139768   28293.661022\nmin     1.000000   0.000000   57800.000000\n25%    10.250000   5.250000   88612.500000\n50%    18.500000  14.500000  104671.000000\n75%    27.750000  20.750000  126774.750000\nmax    56.000000  51.000000  186960.000000",
      "text/html": "<div>\n<style scoped>\n    .dataframe tbody tr th:only-of-type {\n        vertical-align: middle;\n    }\n\n    .dataframe tbody tr th {\n        vertical-align: top;\n    }\n\n    .dataframe thead th {\n        text-align: right;\n    }\n</style>\n<table border=\"1\" class=\"dataframe\">\n  <thead>\n    <tr style=\"text-align: right;\">\n      <th></th>\n      <th>phd</th>\n      <th>service</th>\n      <th>salary</th>\n    </tr>\n  </thead>\n  <tbody>\n    <tr>\n      <th>count</th>\n      <td>78.000000</td>\n      <td>78.000000</td>\n      <td>78.000000</td>\n    </tr>\n    <tr>\n      <th>mean</th>\n      <td>19.705128</td>\n      <td>15.051282</td>\n      <td>108023.782051</td>\n    </tr>\n    <tr>\n      <th>std</th>\n      <td>12.498425</td>\n      <td>12.139768</td>\n      <td>28293.661022</td>\n    </tr>\n    <tr>\n      <th>min</th>\n      <td>1.000000</td>\n      <td>0.000000</td>\n      <td>57800.000000</td>\n    </tr>\n    <tr>\n      <th>25%</th>\n      <td>10.250000</td>\n      <td>5.250000</td>\n      <td>88612.500000</td>\n    </tr>\n    <tr>\n      <th>50%</th>\n      <td>18.500000</td>\n      <td>14.500000</td>\n      <td>104671.000000</td>\n    </tr>\n    <tr>\n      <th>75%</th>\n      <td>27.750000</td>\n      <td>20.750000</td>\n      <td>126774.750000</td>\n    </tr>\n    <tr>\n      <th>max</th>\n      <td>56.000000</td>\n      <td>51.000000</td>\n      <td>186960.000000</td>\n    </tr>\n  </tbody>\n</table>\n</div>"
     },
     "execution_count": 59,
     "metadata": {},
     "output_type": "execute_result"
    }
   ],
   "source": [
    "df.describe(include=['int64'])"
   ],
   "metadata": {
    "collapsed": false,
    "pycharm": {
     "name": "#%%\n"
    }
   }
  },
  {
   "cell_type": "markdown",
   "source": [
    "## Calcolare la deviazione standard per tutte le colonne numeriche"
   ],
   "metadata": {
    "collapsed": false,
    "pycharm": {
     "name": "#%% md\n"
    }
   }
  },
  {
   "cell_type": "code",
   "execution_count": 60,
   "outputs": [
    {
     "data": {
      "text/plain": "phd           12.498425\nservice       12.139768\nsalary     28293.661022\ndtype: float64"
     },
     "execution_count": 60,
     "metadata": {},
     "output_type": "execute_result"
    }
   ],
   "source": [
    "df.std(numeric_only=True)"
   ],
   "metadata": {
    "collapsed": false,
    "pycharm": {
     "name": "#%%\n"
    }
   }
  },
  {
   "cell_type": "markdown",
   "source": [
    "## Quali sono i valori medi dei primi 50 record nel set di dati?"
   ],
   "metadata": {
    "collapsed": false,
    "pycharm": {
     "name": "#%% md\n"
    }
   }
  },
  {
   "cell_type": "code",
   "execution_count": 61,
   "outputs": [
    {
     "data": {
      "text/plain": "phd            21.52\nservice        17.60\nsalary     113789.14\ndtype: float64"
     },
     "execution_count": 61,
     "metadata": {},
     "output_type": "execute_result"
    }
   ],
   "source": [
    "df.head(50).mean(numeric_only=True)"
   ],
   "metadata": {
    "collapsed": false,
    "pycharm": {
     "name": "#%%\n"
    }
   }
  },
  {
   "cell_type": "markdown",
   "source": [
    "## Column Slicing"
   ],
   "metadata": {
    "collapsed": false,
    "pycharm": {
     "name": "#%% md\n"
    }
   }
  },
  {
   "cell_type": "code",
   "execution_count": 62,
   "outputs": [
    {
     "data": {
      "text/plain": "0     186960\n1      93000\n2     110515\n3     131205\n4     104800\n       ...  \n73    105450\n74    104542\n75    124312\n76    109954\n77    109646\nName: salary, Length: 78, dtype: int64"
     },
     "execution_count": 62,
     "metadata": {},
     "output_type": "execute_result"
    }
   ],
   "source": [
    "df['salary']\n",
    "#NB: l'output è una Serie"
   ],
   "metadata": {
    "collapsed": false,
    "pycharm": {
     "name": "#%%\n"
    }
   }
  },
  {
   "cell_type": "markdown",
   "source": [
    "## Seleziona più colonne"
   ],
   "metadata": {
    "collapsed": false,
    "pycharm": {
     "name": "#%% md\n"
    }
   }
  },
  {
   "cell_type": "code",
   "execution_count": 63,
   "outputs": [
    {
     "data": {
      "text/plain": "    salary  phd\n0   186960   56\n1    93000   12\n2   110515   23\n3   131205   40\n4   104800   20\n..     ...  ...\n73  105450   18\n74  104542   19\n75  124312   17\n76  109954   28\n77  109646   23\n\n[78 rows x 2 columns]",
      "text/html": "<div>\n<style scoped>\n    .dataframe tbody tr th:only-of-type {\n        vertical-align: middle;\n    }\n\n    .dataframe tbody tr th {\n        vertical-align: top;\n    }\n\n    .dataframe thead th {\n        text-align: right;\n    }\n</style>\n<table border=\"1\" class=\"dataframe\">\n  <thead>\n    <tr style=\"text-align: right;\">\n      <th></th>\n      <th>salary</th>\n      <th>phd</th>\n    </tr>\n  </thead>\n  <tbody>\n    <tr>\n      <th>0</th>\n      <td>186960</td>\n      <td>56</td>\n    </tr>\n    <tr>\n      <th>1</th>\n      <td>93000</td>\n      <td>12</td>\n    </tr>\n    <tr>\n      <th>2</th>\n      <td>110515</td>\n      <td>23</td>\n    </tr>\n    <tr>\n      <th>3</th>\n      <td>131205</td>\n      <td>40</td>\n    </tr>\n    <tr>\n      <th>4</th>\n      <td>104800</td>\n      <td>20</td>\n    </tr>\n    <tr>\n      <th>...</th>\n      <td>...</td>\n      <td>...</td>\n    </tr>\n    <tr>\n      <th>73</th>\n      <td>105450</td>\n      <td>18</td>\n    </tr>\n    <tr>\n      <th>74</th>\n      <td>104542</td>\n      <td>19</td>\n    </tr>\n    <tr>\n      <th>75</th>\n      <td>124312</td>\n      <td>17</td>\n    </tr>\n    <tr>\n      <th>76</th>\n      <td>109954</td>\n      <td>28</td>\n    </tr>\n    <tr>\n      <th>77</th>\n      <td>109646</td>\n      <td>23</td>\n    </tr>\n  </tbody>\n</table>\n<p>78 rows × 2 columns</p>\n</div>"
     },
     "execution_count": 63,
     "metadata": {},
     "output_type": "execute_result"
    }
   ],
   "source": [
    "df[['salary', 'phd']]\n",
    "#NB: l'output è un DataFrame"
   ],
   "metadata": {
    "collapsed": false,
    "pycharm": {
     "name": "#%%\n"
    }
   }
  },
  {
   "cell_type": "markdown",
   "source": [
    "## Filtraggio"
   ],
   "metadata": {
    "collapsed": false,
    "pycharm": {
     "name": "#%% md\n"
    }
   }
  },
  {
   "cell_type": "markdown",
   "source": [
    "### Seleziona i professori con salario maggiore di 120000"
   ],
   "metadata": {
    "collapsed": false,
    "pycharm": {
     "name": "#%% md\n"
    }
   }
  },
  {
   "cell_type": "code",
   "execution_count": 64,
   "outputs": [
    {
     "data": {
      "text/plain": "    rank discipline  phd  service     sex  salary\n0   Prof          B   56       49    Male  186960\n3   Prof          A   40       31    Male  131205\n5   Prof          A   20       20    Male  122400\n7   Prof          A   18       18    Male  126300\n10  Prof          B   39       33    Male  128250\n11  Prof          B   23       23    Male  134778\n13  Prof          B   35       33    Male  162200\n14  Prof          B   25       19    Male  153750\n15  Prof          B   17        3    Male  150480\n19  Prof          A   29       27    Male  150500\n26  Prof          A   38       19    Male  148750\n27  Prof          A   45       43    Male  155865\n29  Prof          B   21       20    Male  123683\n31  Prof          B   22       21    Male  155750\n35  Prof          B   28       23    Male  126933\n36  Prof          B   45       45    Male  146856\n39  Prof          B   18       18  Female  129000\n40  Prof          A   39       36  Female  137000\n44  Prof          B   23       19  Female  151768\n45  Prof          B   25       25  Female  140096\n49  Prof          B   17       18  Female  122960\n51  Prof          B   20       14  Female  127512\n58  Prof          B   36       26  Female  144651\n72  Prof          B   24       15  Female  161101\n75  Prof          B   17       17  Female  124312",
      "text/html": "<div>\n<style scoped>\n    .dataframe tbody tr th:only-of-type {\n        vertical-align: middle;\n    }\n\n    .dataframe tbody tr th {\n        vertical-align: top;\n    }\n\n    .dataframe thead th {\n        text-align: right;\n    }\n</style>\n<table border=\"1\" class=\"dataframe\">\n  <thead>\n    <tr style=\"text-align: right;\">\n      <th></th>\n      <th>rank</th>\n      <th>discipline</th>\n      <th>phd</th>\n      <th>service</th>\n      <th>sex</th>\n      <th>salary</th>\n    </tr>\n  </thead>\n  <tbody>\n    <tr>\n      <th>0</th>\n      <td>Prof</td>\n      <td>B</td>\n      <td>56</td>\n      <td>49</td>\n      <td>Male</td>\n      <td>186960</td>\n    </tr>\n    <tr>\n      <th>3</th>\n      <td>Prof</td>\n      <td>A</td>\n      <td>40</td>\n      <td>31</td>\n      <td>Male</td>\n      <td>131205</td>\n    </tr>\n    <tr>\n      <th>5</th>\n      <td>Prof</td>\n      <td>A</td>\n      <td>20</td>\n      <td>20</td>\n      <td>Male</td>\n      <td>122400</td>\n    </tr>\n    <tr>\n      <th>7</th>\n      <td>Prof</td>\n      <td>A</td>\n      <td>18</td>\n      <td>18</td>\n      <td>Male</td>\n      <td>126300</td>\n    </tr>\n    <tr>\n      <th>10</th>\n      <td>Prof</td>\n      <td>B</td>\n      <td>39</td>\n      <td>33</td>\n      <td>Male</td>\n      <td>128250</td>\n    </tr>\n    <tr>\n      <th>11</th>\n      <td>Prof</td>\n      <td>B</td>\n      <td>23</td>\n      <td>23</td>\n      <td>Male</td>\n      <td>134778</td>\n    </tr>\n    <tr>\n      <th>13</th>\n      <td>Prof</td>\n      <td>B</td>\n      <td>35</td>\n      <td>33</td>\n      <td>Male</td>\n      <td>162200</td>\n    </tr>\n    <tr>\n      <th>14</th>\n      <td>Prof</td>\n      <td>B</td>\n      <td>25</td>\n      <td>19</td>\n      <td>Male</td>\n      <td>153750</td>\n    </tr>\n    <tr>\n      <th>15</th>\n      <td>Prof</td>\n      <td>B</td>\n      <td>17</td>\n      <td>3</td>\n      <td>Male</td>\n      <td>150480</td>\n    </tr>\n    <tr>\n      <th>19</th>\n      <td>Prof</td>\n      <td>A</td>\n      <td>29</td>\n      <td>27</td>\n      <td>Male</td>\n      <td>150500</td>\n    </tr>\n    <tr>\n      <th>26</th>\n      <td>Prof</td>\n      <td>A</td>\n      <td>38</td>\n      <td>19</td>\n      <td>Male</td>\n      <td>148750</td>\n    </tr>\n    <tr>\n      <th>27</th>\n      <td>Prof</td>\n      <td>A</td>\n      <td>45</td>\n      <td>43</td>\n      <td>Male</td>\n      <td>155865</td>\n    </tr>\n    <tr>\n      <th>29</th>\n      <td>Prof</td>\n      <td>B</td>\n      <td>21</td>\n      <td>20</td>\n      <td>Male</td>\n      <td>123683</td>\n    </tr>\n    <tr>\n      <th>31</th>\n      <td>Prof</td>\n      <td>B</td>\n      <td>22</td>\n      <td>21</td>\n      <td>Male</td>\n      <td>155750</td>\n    </tr>\n    <tr>\n      <th>35</th>\n      <td>Prof</td>\n      <td>B</td>\n      <td>28</td>\n      <td>23</td>\n      <td>Male</td>\n      <td>126933</td>\n    </tr>\n    <tr>\n      <th>36</th>\n      <td>Prof</td>\n      <td>B</td>\n      <td>45</td>\n      <td>45</td>\n      <td>Male</td>\n      <td>146856</td>\n    </tr>\n    <tr>\n      <th>39</th>\n      <td>Prof</td>\n      <td>B</td>\n      <td>18</td>\n      <td>18</td>\n      <td>Female</td>\n      <td>129000</td>\n    </tr>\n    <tr>\n      <th>40</th>\n      <td>Prof</td>\n      <td>A</td>\n      <td>39</td>\n      <td>36</td>\n      <td>Female</td>\n      <td>137000</td>\n    </tr>\n    <tr>\n      <th>44</th>\n      <td>Prof</td>\n      <td>B</td>\n      <td>23</td>\n      <td>19</td>\n      <td>Female</td>\n      <td>151768</td>\n    </tr>\n    <tr>\n      <th>45</th>\n      <td>Prof</td>\n      <td>B</td>\n      <td>25</td>\n      <td>25</td>\n      <td>Female</td>\n      <td>140096</td>\n    </tr>\n    <tr>\n      <th>49</th>\n      <td>Prof</td>\n      <td>B</td>\n      <td>17</td>\n      <td>18</td>\n      <td>Female</td>\n      <td>122960</td>\n    </tr>\n    <tr>\n      <th>51</th>\n      <td>Prof</td>\n      <td>B</td>\n      <td>20</td>\n      <td>14</td>\n      <td>Female</td>\n      <td>127512</td>\n    </tr>\n    <tr>\n      <th>58</th>\n      <td>Prof</td>\n      <td>B</td>\n      <td>36</td>\n      <td>26</td>\n      <td>Female</td>\n      <td>144651</td>\n    </tr>\n    <tr>\n      <th>72</th>\n      <td>Prof</td>\n      <td>B</td>\n      <td>24</td>\n      <td>15</td>\n      <td>Female</td>\n      <td>161101</td>\n    </tr>\n    <tr>\n      <th>75</th>\n      <td>Prof</td>\n      <td>B</td>\n      <td>17</td>\n      <td>17</td>\n      <td>Female</td>\n      <td>124312</td>\n    </tr>\n  </tbody>\n</table>\n</div>"
     },
     "execution_count": 64,
     "metadata": {},
     "output_type": "execute_result"
    }
   ],
   "source": [
    "df[df['salary'] > 120000]"
   ],
   "metadata": {
    "collapsed": false,
    "pycharm": {
     "name": "#%%\n"
    }
   }
  },
  {
   "cell_type": "markdown",
   "source": [
    "## Calcola quanti valori sono presenti nella variabile 'salary'"
   ],
   "metadata": {
    "collapsed": false,
    "pycharm": {
     "name": "#%% md\n"
    }
   }
  },
  {
   "cell_type": "code",
   "execution_count": 65,
   "outputs": [
    {
     "data": {
      "text/plain": "78"
     },
     "execution_count": 65,
     "metadata": {},
     "output_type": "execute_result"
    }
   ],
   "source": [
    "df['salary'].count()"
   ],
   "metadata": {
    "collapsed": false,
    "pycharm": {
     "name": "#%%\n"
    }
   }
  },
  {
   "cell_type": "markdown",
   "source": [
    "## Calcola lo stipendio medio"
   ],
   "metadata": {
    "collapsed": false,
    "pycharm": {
     "name": "#%% md\n"
    }
   }
  },
  {
   "cell_type": "code",
   "execution_count": 66,
   "outputs": [
    {
     "data": {
      "text/plain": "108023.78"
     },
     "execution_count": 66,
     "metadata": {},
     "output_type": "execute_result"
    }
   ],
   "source": [
    "round(df['salary'].mean(), 2)"
   ],
   "metadata": {
    "collapsed": false,
    "pycharm": {
     "name": "#%%\n"
    }
   }
  },
  {
   "cell_type": "markdown",
   "source": [
    "## Seleziona le professoresse di sesso femminile con stipendio superiore a 120000"
   ],
   "metadata": {
    "collapsed": false,
    "pycharm": {
     "name": "#%% md\n"
    }
   }
  },
  {
   "cell_type": "code",
   "execution_count": 67,
   "outputs": [
    {
     "data": {
      "text/plain": "    rank discipline  phd  service     sex  salary\n39  Prof          B   18       18  Female  129000\n40  Prof          A   39       36  Female  137000\n44  Prof          B   23       19  Female  151768\n45  Prof          B   25       25  Female  140096\n49  Prof          B   17       18  Female  122960\n51  Prof          B   20       14  Female  127512\n58  Prof          B   36       26  Female  144651\n72  Prof          B   24       15  Female  161101\n75  Prof          B   17       17  Female  124312",
      "text/html": "<div>\n<style scoped>\n    .dataframe tbody tr th:only-of-type {\n        vertical-align: middle;\n    }\n\n    .dataframe tbody tr th {\n        vertical-align: top;\n    }\n\n    .dataframe thead th {\n        text-align: right;\n    }\n</style>\n<table border=\"1\" class=\"dataframe\">\n  <thead>\n    <tr style=\"text-align: right;\">\n      <th></th>\n      <th>rank</th>\n      <th>discipline</th>\n      <th>phd</th>\n      <th>service</th>\n      <th>sex</th>\n      <th>salary</th>\n    </tr>\n  </thead>\n  <tbody>\n    <tr>\n      <th>39</th>\n      <td>Prof</td>\n      <td>B</td>\n      <td>18</td>\n      <td>18</td>\n      <td>Female</td>\n      <td>129000</td>\n    </tr>\n    <tr>\n      <th>40</th>\n      <td>Prof</td>\n      <td>A</td>\n      <td>39</td>\n      <td>36</td>\n      <td>Female</td>\n      <td>137000</td>\n    </tr>\n    <tr>\n      <th>44</th>\n      <td>Prof</td>\n      <td>B</td>\n      <td>23</td>\n      <td>19</td>\n      <td>Female</td>\n      <td>151768</td>\n    </tr>\n    <tr>\n      <th>45</th>\n      <td>Prof</td>\n      <td>B</td>\n      <td>25</td>\n      <td>25</td>\n      <td>Female</td>\n      <td>140096</td>\n    </tr>\n    <tr>\n      <th>49</th>\n      <td>Prof</td>\n      <td>B</td>\n      <td>17</td>\n      <td>18</td>\n      <td>Female</td>\n      <td>122960</td>\n    </tr>\n    <tr>\n      <th>51</th>\n      <td>Prof</td>\n      <td>B</td>\n      <td>20</td>\n      <td>14</td>\n      <td>Female</td>\n      <td>127512</td>\n    </tr>\n    <tr>\n      <th>58</th>\n      <td>Prof</td>\n      <td>B</td>\n      <td>36</td>\n      <td>26</td>\n      <td>Female</td>\n      <td>144651</td>\n    </tr>\n    <tr>\n      <th>72</th>\n      <td>Prof</td>\n      <td>B</td>\n      <td>24</td>\n      <td>15</td>\n      <td>Female</td>\n      <td>161101</td>\n    </tr>\n    <tr>\n      <th>75</th>\n      <td>Prof</td>\n      <td>B</td>\n      <td>17</td>\n      <td>17</td>\n      <td>Female</td>\n      <td>124312</td>\n    </tr>\n  </tbody>\n</table>\n</div>"
     },
     "execution_count": 67,
     "metadata": {},
     "output_type": "execute_result"
    }
   ],
   "source": [
    "female = df[df['sex'] == 'Female']\n",
    "female[female['salary'] > 120000]"
   ],
   "metadata": {
    "collapsed": false,
    "pycharm": {
     "name": "#%%\n"
    }
   }
  },
  {
   "cell_type": "markdown",
   "source": [
    "## Seleziona la colonna 'salary' delle professoresse di sesso femminile"
   ],
   "metadata": {
    "collapsed": false,
    "pycharm": {
     "name": "#%% md\n"
    }
   }
  },
  {
   "cell_type": "code",
   "execution_count": 68,
   "outputs": [
    {
     "data": {
      "text/plain": "39    129000\n40    137000\n41     74830\n42     80225\n43     77000\n44    151768\n45    140096\n46     74692\n47    103613\n48    111512\n49    122960\n50     97032\n51    127512\n52    105000\n53     73500\n54     62884\n55     72500\n56     77500\n57     72500\n58    144651\n59    103994\n60     92000\n61    103750\n62    109650\n63     91000\n64     73300\n65    117555\n66     63100\n67     90450\n68     77500\n69    116450\n70     78500\n71     71065\n72    161101\n73    105450\n74    104542\n75    124312\n76    109954\n77    109646\nName: salary, dtype: int64"
     },
     "execution_count": 68,
     "metadata": {},
     "output_type": "execute_result"
    }
   ],
   "source": [
    "female = df[df['sex'] == 'Female']\n",
    "female['salary']"
   ],
   "metadata": {
    "collapsed": false,
    "pycharm": {
     "name": "#%%\n"
    }
   }
  },
  {
   "cell_type": "markdown",
   "source": [
    "Se è necessario selezionare un intervallo di righe, utilizzando le relative label e\n",
    "colonne possiamo usare metodo *loc*"
   ],
   "metadata": {
    "collapsed": false,
    "pycharm": {
     "name": "#%% md\n"
    }
   }
  },
  {
   "cell_type": "code",
   "execution_count": 69,
   "outputs": [
    {
     "data": {
      "text/plain": "        rank   sex  salary  phd\n10      Prof  Male  128250   39\n11      Prof  Male  134778   23\n12  AsstProf  Male   88000    1\n13      Prof  Male  162200   35\n14      Prof  Male  153750   25\n15      Prof  Male  150480   17\n16  AsstProf  Male   75044    8\n17  AsstProf  Male   92000    4\n18      Prof  Male  107300   19\n19      Prof  Male  150500   29\n20  AsstProf  Male   92000    4",
      "text/html": "<div>\n<style scoped>\n    .dataframe tbody tr th:only-of-type {\n        vertical-align: middle;\n    }\n\n    .dataframe tbody tr th {\n        vertical-align: top;\n    }\n\n    .dataframe thead th {\n        text-align: right;\n    }\n</style>\n<table border=\"1\" class=\"dataframe\">\n  <thead>\n    <tr style=\"text-align: right;\">\n      <th></th>\n      <th>rank</th>\n      <th>sex</th>\n      <th>salary</th>\n      <th>phd</th>\n    </tr>\n  </thead>\n  <tbody>\n    <tr>\n      <th>10</th>\n      <td>Prof</td>\n      <td>Male</td>\n      <td>128250</td>\n      <td>39</td>\n    </tr>\n    <tr>\n      <th>11</th>\n      <td>Prof</td>\n      <td>Male</td>\n      <td>134778</td>\n      <td>23</td>\n    </tr>\n    <tr>\n      <th>12</th>\n      <td>AsstProf</td>\n      <td>Male</td>\n      <td>88000</td>\n      <td>1</td>\n    </tr>\n    <tr>\n      <th>13</th>\n      <td>Prof</td>\n      <td>Male</td>\n      <td>162200</td>\n      <td>35</td>\n    </tr>\n    <tr>\n      <th>14</th>\n      <td>Prof</td>\n      <td>Male</td>\n      <td>153750</td>\n      <td>25</td>\n    </tr>\n    <tr>\n      <th>15</th>\n      <td>Prof</td>\n      <td>Male</td>\n      <td>150480</td>\n      <td>17</td>\n    </tr>\n    <tr>\n      <th>16</th>\n      <td>AsstProf</td>\n      <td>Male</td>\n      <td>75044</td>\n      <td>8</td>\n    </tr>\n    <tr>\n      <th>17</th>\n      <td>AsstProf</td>\n      <td>Male</td>\n      <td>92000</td>\n      <td>4</td>\n    </tr>\n    <tr>\n      <th>18</th>\n      <td>Prof</td>\n      <td>Male</td>\n      <td>107300</td>\n      <td>19</td>\n    </tr>\n    <tr>\n      <th>19</th>\n      <td>Prof</td>\n      <td>Male</td>\n      <td>150500</td>\n      <td>29</td>\n    </tr>\n    <tr>\n      <th>20</th>\n      <td>AsstProf</td>\n      <td>Male</td>\n      <td>92000</td>\n      <td>4</td>\n    </tr>\n  </tbody>\n</table>\n</div>"
     },
     "execution_count": 69,
     "metadata": {},
     "output_type": "execute_result"
    }
   ],
   "source": [
    "df.loc[10:20, ['rank', 'sex', 'salary', 'phd']]"
   ],
   "metadata": {
    "collapsed": false,
    "pycharm": {
     "name": "#%%\n"
    }
   }
  },
  {
   "cell_type": "markdown",
   "source": [
    "Se dobbiamo selezionare un intervallo di righe e / o colonne,\n",
    "usando le loro posizioni possiamo usare il metodo *iloc*:"
   ],
   "metadata": {
    "collapsed": false,
    "pycharm": {
     "name": "#%% md\n"
    }
   }
  },
  {
   "cell_type": "code",
   "execution_count": 70,
   "outputs": [
    {
     "data": {
      "text/plain": "        rank  service   sex\n10      Prof       33  Male\n11      Prof       23  Male\n12  AsstProf        0  Male\n13      Prof       33  Male\n14      Prof       19  Male\n15      Prof        3  Male\n16  AsstProf        3  Male\n17  AsstProf        0  Male\n18      Prof        7  Male\n19      Prof       27  Male",
      "text/html": "<div>\n<style scoped>\n    .dataframe tbody tr th:only-of-type {\n        vertical-align: middle;\n    }\n\n    .dataframe tbody tr th {\n        vertical-align: top;\n    }\n\n    .dataframe thead th {\n        text-align: right;\n    }\n</style>\n<table border=\"1\" class=\"dataframe\">\n  <thead>\n    <tr style=\"text-align: right;\">\n      <th></th>\n      <th>rank</th>\n      <th>service</th>\n      <th>sex</th>\n    </tr>\n  </thead>\n  <tbody>\n    <tr>\n      <th>10</th>\n      <td>Prof</td>\n      <td>33</td>\n      <td>Male</td>\n    </tr>\n    <tr>\n      <th>11</th>\n      <td>Prof</td>\n      <td>23</td>\n      <td>Male</td>\n    </tr>\n    <tr>\n      <th>12</th>\n      <td>AsstProf</td>\n      <td>0</td>\n      <td>Male</td>\n    </tr>\n    <tr>\n      <th>13</th>\n      <td>Prof</td>\n      <td>33</td>\n      <td>Male</td>\n    </tr>\n    <tr>\n      <th>14</th>\n      <td>Prof</td>\n      <td>19</td>\n      <td>Male</td>\n    </tr>\n    <tr>\n      <th>15</th>\n      <td>Prof</td>\n      <td>3</td>\n      <td>Male</td>\n    </tr>\n    <tr>\n      <th>16</th>\n      <td>AsstProf</td>\n      <td>3</td>\n      <td>Male</td>\n    </tr>\n    <tr>\n      <th>17</th>\n      <td>AsstProf</td>\n      <td>0</td>\n      <td>Male</td>\n    </tr>\n    <tr>\n      <th>18</th>\n      <td>Prof</td>\n      <td>7</td>\n      <td>Male</td>\n    </tr>\n    <tr>\n      <th>19</th>\n      <td>Prof</td>\n      <td>27</td>\n      <td>Male</td>\n    </tr>\n  </tbody>\n</table>\n</div>"
     },
     "execution_count": 70,
     "metadata": {},
     "output_type": "execute_result"
    }
   ],
   "source": [
    "df.iloc[10:20, [0,3,4]]"
   ],
   "metadata": {
    "collapsed": false,
    "pycharm": {
     "name": "#%%\n"
    }
   }
  },
  {
   "cell_type": "markdown",
   "source": [
    "È possibile utilizzare il metodo *applymap* per i Dataframe e il metodo *map* per le Series\n",
    "Per esempio, se vogliamo aggiornare la colonna 'salary' con il valore espresso in dollari"
   ],
   "metadata": {
    "collapsed": false,
    "pycharm": {
     "name": "#%% md\n"
    }
   }
  },
  {
   "cell_type": "code",
   "execution_count": 71,
   "outputs": [
    {
     "data": {
      "text/plain": "0     216873.60\n1     107880.00\n2     128197.40\n3     152197.80\n4     121568.00\n        ...    \n73    122322.00\n74    121268.72\n75    144201.92\n76    127546.64\n77    127189.36\nName: salary, Length: 78, dtype: float64"
     },
     "execution_count": 71,
     "metadata": {},
     "output_type": "execute_result"
    }
   ],
   "source": [
    "def dollar_convert(x):\n",
    "    return x*1.16\n",
    "\n",
    "df['salary'].map(dollar_convert)"
   ],
   "metadata": {
    "collapsed": false,
    "pycharm": {
     "name": "#%%\n"
    }
   }
  },
  {
   "cell_type": "markdown",
   "source": [
    "È possibile effettuare dei raggruppamenti tramite *groupby*"
   ],
   "metadata": {
    "collapsed": false,
    "pycharm": {
     "name": "#%% md\n"
    }
   }
  },
  {
   "cell_type": "code",
   "execution_count": 72,
   "outputs": [
    {
     "data": {
      "text/plain": "<pandas.core.groupby.generic.DataFrameGroupBy object at 0x7fccc6a6a7c0>"
     },
     "execution_count": 72,
     "metadata": {},
     "output_type": "execute_result"
    }
   ],
   "source": [
    "df.groupby(['sex','phd'])"
   ],
   "metadata": {
    "collapsed": false,
    "pycharm": {
     "name": "#%%\n"
    }
   }
  }
 ],
 "metadata": {
  "kernelspec": {
   "display_name": "Python 3",
   "language": "python",
   "name": "python3"
  },
  "language_info": {
   "codemirror_mode": {
    "name": "ipython",
    "version": 3
   },
   "file_extension": ".py",
   "mimetype": "text/x-python",
   "name": "python",
   "nbconvert_exporter": "python",
   "pygments_lexer": "ipython3",
   "version": "3.9.0"
  }
 },
 "nbformat": 4,
 "nbformat_minor": 1
}