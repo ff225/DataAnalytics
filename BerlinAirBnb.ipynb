{
 "cells": [
  {
   "cell_type": "markdown",
   "metadata": {
    "collapsed": true,
    "pycharm": {
     "name": "#%% md\n"
    }
   },
   "source": [
    "#  Airbnb a Berlino\n",
    "### *Data processing e exploratory data analytics sulle attività di Airbnb a Berlino.*\n",
    "Airbnb è un portale online che mette in contatto persone in cerca di un alloggio o di una camera per brevi periodi,\n",
    "con persone che dispongono di uno spazio extra da affittare, generalmente privati.\n",
    "\n",
    "Ad oggi Airbnb offre alloggi in oltre **26.000 città** in **192 paesi** con più di **10 milioni di notti prenotate**\n",
    "in tutto il mondo. <br>\n",
    "Gli annunci includono sistemazioni quali stanze private, interi appartamenti, castelli e ville,\n",
    "ma anche barche, baite, case sugli alberi, igloo, isole private e qualsiasi altro tipo di alloggio.\n",
    "<br>\n",
    "Per questa esercitazione di Big Data analizzeremo come Airbnb si sia insediato nel settore dell'ospitalità e in\n",
    "particolare a __Berlino__, uno dei mercati più caldi per Airbnb in Europa, con oltre 22.552 annunci a novembre 2018.\n",
    "<br>\n",
    "I dati utilizzati per questa esercitazione sono stati estratti nel __2018__ e contengono dati su:\n",
    "- __listing__: dati su gli annunci a Berlino;\n",
    "- __listing_summary__: dati aggiuntive riguardo gli annunci;\n",
    "- __calendar_summary__: dati dettagliati del calendario per le inserzioni a Berlino.\n",
    "\n",
    "<br>\n",
    "Il dataset è disponibile al seguente sito: https://www.kaggle.com/brittabettendorf/berlin-airbnb-data"
   ]
  },
  {
   "cell_type": "markdown",
   "metadata": {
    "pycharm": {
     "name": "#%% md\n"
    }
   },
   "source": [
    "## Importiamo i pacchetti necessari per questa esercitazione."
   ]
  },
  {
   "cell_type": "code",
   "execution_count": 45,
   "metadata": {
    "pycharm": {
     "name": "#%%\n"
    }
   },
   "outputs": [
    {
     "data": {
      "text/plain": "'1.2.0'"
     },
     "execution_count": 45,
     "metadata": {},
     "output_type": "execute_result"
    }
   ],
   "source": [
    "import numpy as np\n",
    "import seaborn as sns\n",
    "import matplotlib.pyplot as plt\n",
    "import pandas as pd\n",
    "import folium\n",
    "from folium.plugins import FastMarkerCluster\n",
    "import geopandas as gpd\n",
    "\n",
    "\n",
    "pd.__version__"
   ]
  },
  {
   "cell_type": "markdown",
   "metadata": {
    "pycharm": {
     "name": "#%% md\n"
    }
   },
   "source": [
    "## 1 Il dataset\n",
    "\n",
    "Il dataset è composto da 7 file.<br>\n",
    "L'identificatore univoco nel set di dati è l'__id__ di __*listing*__,\n",
    "che sostanzialmente è l'id relativo all'annuncio."
   ]
  },
  {
   "cell_type": "code",
   "execution_count": 46,
   "metadata": {
    "pycharm": {
     "name": "#%%\n"
    }
   },
   "outputs": [
    {
     "name": "stdout",
     "output_type": "stream",
     "text": [
      "['reviews.csv', 'neighbourhoods.csv', 'listings.csv', 'calendar_summary.csv', 'reviews_summary.csv', 'listings_summary.csv']\n"
     ]
    }
   ],
   "source": [
    "import os\n",
    "print(os.listdir('airbnbDataset'))"
   ]
  },
  {
   "cell_type": "code",
   "execution_count": 47,
   "metadata": {
    "pycharm": {
     "name": "#%%\n"
    }
   },
   "outputs": [
    {
     "name": "stderr",
     "output_type": "stream",
     "text": [
      "/Users/francescofranco/PycharmProjects/DataAnalytics/venv/lib/python3.9/site-packages/numpy/lib/arraysetops.py:580: FutureWarning: elementwise comparison failed; returning scalar instead, but in the future will perform elementwise comparison\n",
      "  mask |= (ar1 == a)\n"
     ]
    }
   ],
   "source": [
    "listing = pd.read_csv('airbnbDataset/listings.csv', index_col='id')\n",
    "listing_summary = pd.read_csv('airbnbDataset/listings_summary.csv', index_col='id')\n",
    "calendar = pd.read_csv('airbnbDataset/calendar_summary.csv', index_col=['listing_id'])\n",
    "reviews_summary = pd.read_csv('airbnbDataset/reviews_summary.csv', index_col=['date'])"
   ]
  },
  {
   "cell_type": "markdown",
   "metadata": {
    "pycharm": {
     "name": "#%% md\n"
    }
   },
   "source": [
    "### 1.2 Verifichiamo le dimensioni del dataframe listing"
   ]
  },
  {
   "cell_type": "code",
   "execution_count": 48,
   "metadata": {
    "pycharm": {
     "name": "#%%\n"
    }
   },
   "outputs": [
    {
     "name": "stdout",
     "output_type": "stream",
     "text": [
      "(22552, 15)\n"
     ]
    }
   ],
   "source": [
    "print(listing.shape)"
   ]
  },
  {
   "cell_type": "markdown",
   "metadata": {
    "pycharm": {
     "name": "#%% md\n"
    }
   },
   "source": [
    "### 1.3 Verifichiamo le colonne che compongono il dataframe listing"
   ]
  },
  {
   "cell_type": "code",
   "execution_count": 49,
   "metadata": {
    "pycharm": {
     "name": "#%%\n"
    }
   },
   "outputs": [
    {
     "name": "stdout",
     "output_type": "stream",
     "text": [
      "Index(['name', 'host_id', 'host_name', 'neighbourhood_group', 'neighbourhood',\n",
      "       'latitude', 'longitude', 'room_type', 'price', 'minimum_nights',\n",
      "       'number_of_reviews', 'last_review', 'reviews_per_month',\n",
      "       'calculated_host_listings_count', 'availability_365'],\n",
      "      dtype='object')\n"
     ]
    }
   ],
   "source": [
    "print(listing.columns)"
   ]
  },
  {
   "cell_type": "markdown",
   "metadata": {
    "pycharm": {
     "name": "#%% md\n"
    }
   },
   "source": [
    "### 1.4 Verifichiamo le dimensioni del dataframe listing_summary"
   ]
  },
  {
   "cell_type": "code",
   "execution_count": 50,
   "metadata": {
    "pycharm": {
     "name": "#%%\n"
    }
   },
   "outputs": [
    {
     "name": "stdout",
     "output_type": "stream",
     "text": [
      "(22552, 95)\n",
      "Index(['listing_url', 'scrape_id', 'last_scraped', 'name', 'summary', 'space',\n",
      "       'description', 'experiences_offered', 'neighborhood_overview', 'notes',\n",
      "       'transit', 'access', 'interaction', 'house_rules', 'thumbnail_url',\n",
      "       'medium_url', 'picture_url', 'xl_picture_url', 'host_id', 'host_url',\n",
      "       'host_name', 'host_since', 'host_location', 'host_about',\n",
      "       'host_response_time', 'host_response_rate', 'host_acceptance_rate',\n",
      "       'host_is_superhost', 'host_thumbnail_url', 'host_picture_url',\n",
      "       'host_neighbourhood', 'host_listings_count',\n",
      "       'host_total_listings_count', 'host_verifications',\n",
      "       'host_has_profile_pic', 'host_identity_verified', 'street',\n",
      "       'neighbourhood', 'neighbourhood_cleansed',\n",
      "       'neighbourhood_group_cleansed', 'city', 'state', 'zipcode', 'market',\n",
      "       'smart_location', 'country_code', 'country', 'latitude', 'longitude',\n",
      "       'is_location_exact', 'property_type', 'room_type', 'accommodates',\n",
      "       'bathrooms', 'bedrooms', 'beds', 'bed_type', 'amenities', 'square_feet',\n",
      "       'price', 'weekly_price', 'monthly_price', 'security_deposit',\n",
      "       'cleaning_fee', 'guests_included', 'extra_people', 'minimum_nights',\n",
      "       'maximum_nights', 'calendar_updated', 'has_availability',\n",
      "       'availability_30', 'availability_60', 'availability_90',\n",
      "       'availability_365', 'calendar_last_scraped', 'number_of_reviews',\n",
      "       'first_review', 'last_review', 'review_scores_rating',\n",
      "       'review_scores_accuracy', 'review_scores_cleanliness',\n",
      "       'review_scores_checkin', 'review_scores_communication',\n",
      "       'review_scores_location', 'review_scores_value', 'requires_license',\n",
      "       'license', 'jurisdiction_names', 'instant_bookable',\n",
      "       'is_business_travel_ready', 'cancellation_policy',\n",
      "       'require_guest_profile_picture', 'require_guest_phone_verification',\n",
      "       'calculated_host_listings_count', 'reviews_per_month'],\n",
      "      dtype='object')\n"
     ]
    }
   ],
   "source": [
    "print(listing_summary.shape)\n",
    "print(listing_summary.columns)"
   ]
  },
  {
   "cell_type": "markdown",
   "metadata": {
    "pycharm": {
     "name": "#%% md\n"
    }
   },
   "source": [
    "Il dataframe *listing_summary* contiene 95 variabili. Per questa esercitazione terrò solo le variabili che ho ritenuto\n",
    "utili alla fase successiva di exploratory data analysis."
   ]
  },
  {
   "cell_type": "code",
   "execution_count": 51,
   "metadata": {
    "pycharm": {
     "name": "#%%\n"
    }
   },
   "outputs": [
    {
     "name": "stdout",
     "output_type": "stream",
     "text": [
      "<class 'pandas.core.frame.DataFrame'>\n",
      "Int64Index: 22552 entries, 2015 to 29867352\n",
      "Data columns (total 30 columns):\n",
      " #   Column                          Non-Null Count  Dtype  \n",
      "---  ------                          --------------  -----  \n",
      " 0   name                            22493 non-null  object \n",
      " 1   host_id                         22552 non-null  int64  \n",
      " 2   host_name                       22526 non-null  object \n",
      " 3   neighbourhood_group             22552 non-null  object \n",
      " 4   neighbourhood                   22552 non-null  object \n",
      " 5   latitude                        22552 non-null  float64\n",
      " 6   longitude                       22552 non-null  float64\n",
      " 7   room_type                       22552 non-null  object \n",
      " 8   price                           22552 non-null  int64  \n",
      " 9   minimum_nights                  22552 non-null  int64  \n",
      " 10  number_of_reviews               22552 non-null  int64  \n",
      " 11  last_review                     18644 non-null  object \n",
      " 12  reviews_per_month               18638 non-null  float64\n",
      " 13  calculated_host_listings_count  22552 non-null  int64  \n",
      " 14  availability_365                22552 non-null  int64  \n",
      " 15  property_type                   22552 non-null  object \n",
      " 16  accommodates                    22552 non-null  int64  \n",
      " 17  first_review                    18638 non-null  object \n",
      " 18  review_scores_value             18117 non-null  float64\n",
      " 19  review_scores_cleanliness       18141 non-null  float64\n",
      " 20  review_scores_location          18121 non-null  float64\n",
      " 21  review_scores_accuracy          18138 non-null  float64\n",
      " 22  review_scores_communication     18134 non-null  float64\n",
      " 23  review_scores_checkin           18120 non-null  float64\n",
      " 24  review_scores_rating            18163 non-null  float64\n",
      " 25  maximum_nights                  22552 non-null  int64  \n",
      " 26  listing_url                     22552 non-null  object \n",
      " 27  host_is_superhost               22526 non-null  object \n",
      " 28  street                          22552 non-null  object \n",
      " 29  market                          22489 non-null  object \n",
      "dtypes: float64(10), int64(8), object(12)\n",
      "memory usage: 5.3+ MB\n"
     ]
    }
   ],
   "source": [
    "target_columns = [\"property_type\", \"accommodates\", \"first_review\", \"review_scores_value\", \"review_scores_cleanliness\", \"review_scores_location\", \"review_scores_accuracy\", \"review_scores_communication\", \"review_scores_checkin\", \"review_scores_rating\", \"maximum_nights\", \"listing_url\", \"host_is_superhost\", \"street\",  \"market\"]\n",
    "listing = pd.merge(listing, listing_summary[target_columns], on='id', how='left')\n",
    "listing.info()"
   ]
  },
  {
   "cell_type": "markdown",
   "metadata": {
    "pycharm": {
     "name": "#%% md\n"
    }
   },
   "source": [
    "Possiamo notare come il dataframe possega la quasi totalità delle informazioni.<br>\n",
    "Non è quindi necessaria una fase di \"pulizia\" del dataframe dalle colonne inutili. <br>\n",
    "Procediamo con le fasi successive.\n",
    "<br>\n",
    "Visualizziamo le *testa* del dataframe che andremo a usare:"
   ]
  },
  {
   "cell_type": "code",
   "execution_count": 52,
   "metadata": {
    "pycharm": {
     "name": "#%%\n"
    }
   },
   "outputs": [
    {
     "data": {
      "text/plain": "                                                  name  host_id host_name  \\\nid                                                                          \n2015  Berlin-Mitte Value! Quiet courtyard/very central     2217       Ian   \n2695                Prenzlauer Berg close to Mauerpark     2986   Michael   \n3176                   Fabulous Flat in great Location     3718    Britta   \n\n     neighbourhood_group             neighbourhood   latitude  longitude  \\\nid                                                                         \n2015               Mitte           Brunnenstr. Süd  52.534537  13.402557   \n2695              Pankow  Prenzlauer Berg Nordwest  52.548513  13.404553   \n3176              Pankow   Prenzlauer Berg Südwest  52.534996  13.417579   \n\n            room_type  price  minimum_nights  ...  review_scores_location  \\\nid                                            ...                           \n2015  Entire home/apt     60               4  ...                    10.0   \n2695     Private room     17               2  ...                    10.0   \n3176  Entire home/apt     90              62  ...                    10.0   \n\n     review_scores_accuracy  review_scores_communication  \\\nid                                                         \n2015                   10.0                         10.0   \n2695                   10.0                         10.0   \n3176                    9.0                          9.0   \n\n      review_scores_checkin  review_scores_rating maximum_nights  \\\nid                                                                 \n2015                   10.0                  93.0           1125   \n2695                   10.0                 100.0             40   \n3176                    9.0                  92.0           1125   \n\n                            listing_url host_is_superhost  \\\nid                                                          \n2015  https://www.airbnb.com/rooms/2015                 t   \n2695  https://www.airbnb.com/rooms/2695                 f   \n3176  https://www.airbnb.com/rooms/3176                 f   \n\n                       street  market  \nid                                     \n2015  Berlin, Berlin, Germany  Berlin  \n2695  Berlin, Berlin, Germany  Berlin  \n3176  Berlin, Berlin, Germany  Berlin  \n\n[3 rows x 30 columns]",
      "text/html": "<div>\n<style scoped>\n    .dataframe tbody tr th:only-of-type {\n        vertical-align: middle;\n    }\n\n    .dataframe tbody tr th {\n        vertical-align: top;\n    }\n\n    .dataframe thead th {\n        text-align: right;\n    }\n</style>\n<table border=\"1\" class=\"dataframe\">\n  <thead>\n    <tr style=\"text-align: right;\">\n      <th></th>\n      <th>name</th>\n      <th>host_id</th>\n      <th>host_name</th>\n      <th>neighbourhood_group</th>\n      <th>neighbourhood</th>\n      <th>latitude</th>\n      <th>longitude</th>\n      <th>room_type</th>\n      <th>price</th>\n      <th>minimum_nights</th>\n      <th>...</th>\n      <th>review_scores_location</th>\n      <th>review_scores_accuracy</th>\n      <th>review_scores_communication</th>\n      <th>review_scores_checkin</th>\n      <th>review_scores_rating</th>\n      <th>maximum_nights</th>\n      <th>listing_url</th>\n      <th>host_is_superhost</th>\n      <th>street</th>\n      <th>market</th>\n    </tr>\n    <tr>\n      <th>id</th>\n      <th></th>\n      <th></th>\n      <th></th>\n      <th></th>\n      <th></th>\n      <th></th>\n      <th></th>\n      <th></th>\n      <th></th>\n      <th></th>\n      <th></th>\n      <th></th>\n      <th></th>\n      <th></th>\n      <th></th>\n      <th></th>\n      <th></th>\n      <th></th>\n      <th></th>\n      <th></th>\n      <th></th>\n    </tr>\n  </thead>\n  <tbody>\n    <tr>\n      <th>2015</th>\n      <td>Berlin-Mitte Value! Quiet courtyard/very central</td>\n      <td>2217</td>\n      <td>Ian</td>\n      <td>Mitte</td>\n      <td>Brunnenstr. Süd</td>\n      <td>52.534537</td>\n      <td>13.402557</td>\n      <td>Entire home/apt</td>\n      <td>60</td>\n      <td>4</td>\n      <td>...</td>\n      <td>10.0</td>\n      <td>10.0</td>\n      <td>10.0</td>\n      <td>10.0</td>\n      <td>93.0</td>\n      <td>1125</td>\n      <td>https://www.airbnb.com/rooms/2015</td>\n      <td>t</td>\n      <td>Berlin, Berlin, Germany</td>\n      <td>Berlin</td>\n    </tr>\n    <tr>\n      <th>2695</th>\n      <td>Prenzlauer Berg close to Mauerpark</td>\n      <td>2986</td>\n      <td>Michael</td>\n      <td>Pankow</td>\n      <td>Prenzlauer Berg Nordwest</td>\n      <td>52.548513</td>\n      <td>13.404553</td>\n      <td>Private room</td>\n      <td>17</td>\n      <td>2</td>\n      <td>...</td>\n      <td>10.0</td>\n      <td>10.0</td>\n      <td>10.0</td>\n      <td>10.0</td>\n      <td>100.0</td>\n      <td>40</td>\n      <td>https://www.airbnb.com/rooms/2695</td>\n      <td>f</td>\n      <td>Berlin, Berlin, Germany</td>\n      <td>Berlin</td>\n    </tr>\n    <tr>\n      <th>3176</th>\n      <td>Fabulous Flat in great Location</td>\n      <td>3718</td>\n      <td>Britta</td>\n      <td>Pankow</td>\n      <td>Prenzlauer Berg Südwest</td>\n      <td>52.534996</td>\n      <td>13.417579</td>\n      <td>Entire home/apt</td>\n      <td>90</td>\n      <td>62</td>\n      <td>...</td>\n      <td>10.0</td>\n      <td>9.0</td>\n      <td>9.0</td>\n      <td>9.0</td>\n      <td>92.0</td>\n      <td>1125</td>\n      <td>https://www.airbnb.com/rooms/3176</td>\n      <td>f</td>\n      <td>Berlin, Berlin, Germany</td>\n      <td>Berlin</td>\n    </tr>\n  </tbody>\n</table>\n<p>3 rows × 30 columns</p>\n</div>"
     },
     "execution_count": 52,
     "metadata": {},
     "output_type": "execute_result"
    }
   ],
   "source": [
    "listing.head(3)"
   ]
  },
  {
   "cell_type": "markdown",
   "metadata": {
    "pycharm": {
     "name": "#%% md\n"
    }
   },
   "source": [
    "##  2 Data Exploration\n",
    "\n",
    "### 2.1 Quartieri\n",
    "Analizziamo quali quartieri hanno il maggior numero di annunci."
   ]
  },
  {
   "cell_type": "code",
   "execution_count": 74,
   "metadata": {
    "pycharm": {
     "name": "#%%\n"
    }
   },
   "outputs": [
    {
     "data": {
      "text/plain": "Text(0.5, 1.0, 'I 20 quartieri con più annunci')"
     },
     "execution_count": 74,
     "metadata": {},
     "output_type": "execute_result"
    },
    {
     "data": {
      "text/plain": "<Figure size 432x288 with 1 Axes>",
      "image/png": "[encoded data removed]"
     },
     "metadata": {},
     "output_type": "display_data"
    }
   ],
   "source": [
    "data = listing.neighbourhood.value_counts()\n",
    "sns.set_theme(style=\"whitegrid\")\n",
    "sns.countplot(palette=\"Set3\", y=listing['neighbourhood'], order = data.head(20).index[::-1])\n",
    "plt.xlabel(\"Numero di annunci\", fontsize = 'medium')\n",
    "plt.ylabel('')\n",
    "plt.title(\"I 20 quartieri più in voga\", fontsize = 'large')"
   ]
  },
  {
   "cell_type": "markdown",
   "source": [
    "Possiamo notare che il quartiere 'Tempelhofer Vorstad' è il quartiere con il maggior numero di annunci e che __4 quartieri__ hanno più di 800 annunci."
   ],
   "metadata": {
    "collapsed": false,
    "pycharm": {
     "name": "#%% md\n"
    }
   }
  },
  {
   "cell_type": "markdown",
   "source": [],
   "metadata": {
    "collapsed": false,
    "pycharm": {
     "name": "#%% md\n"
    }
   }
  }
 ],
 "metadata": {
  "kernelspec": {
   "display_name": "Python 3",
   "language": "python",
   "name": "python3"
  },
  "language_info": {
   "codemirror_mode": {
    "name": "ipython",
    "version": 3
   },
   "file_extension": ".py",
   "mimetype": "text/x-python",
   "name": "python",
   "nbconvert_exporter": "python",
   "pygments_lexer": "ipython3",
   "version": "3.9.0"
  }
 },
 "nbformat": 4,
 "nbformat_minor": 1
}