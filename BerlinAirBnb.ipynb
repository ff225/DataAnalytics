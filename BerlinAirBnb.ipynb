{
 "cells": [
  {
   "cell_type": "markdown",
   "metadata": {
    "collapsed": true,
    "pycharm": {
     "name": "#%% md\n"
    }
   },
   "source": [
    "# Airbnb a Berlino\n",
    "### *Data processing e exploratory data analytics sulle attività di Airbnb a Berlino.*\n",
    "Airbnb è un portale online che mette in contatto persone in cerca di un alloggio o di una camera per brevi periodi,\n",
    "con persone che dispongono di uno spazio extra da affittare, generalmente privati.\n",
    "\n",
    "Ad oggi Airbnb offre alloggi in oltre **26.000 città** in **192 paesi** con più di **10 milioni di notti prenotate** in tutto il mondo. <br>\n",
    "Gli annunci includono sistemazioni quali stanze private, interi appartamenti, castelli e ville,\n",
    "ma anche barche, baite, case sugli alberi, igloo, isole private e qualsiasi altro tipo di alloggio"
   ]
  },
  {
   "cell_type": "code",
   "execution_count": null,
   "outputs": [],
   "source": [],
   "metadata": {
    "collapsed": false,
    "pycharm": {
     "name": "#%%\n"
    }
   }
  }
 ],
 "metadata": {
  "kernelspec": {
   "display_name": "Python 3",
   "language": "python",
   "name": "python3"
  },
  "language_info": {
   "codemirror_mode": {
    "name": "ipython",
    "version": 2
   },
   "file_extension": ".py",
   "mimetype": "text/x-python",
   "name": "python",
   "nbconvert_exporter": "python",
   "pygments_lexer": "ipython2",
   "version": "2.7.6"
  }
 },
 "nbformat": 4,
 "nbformat_minor": 0
}