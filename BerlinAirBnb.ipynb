{
 "cells": [
  {
   "cell_type": "markdown",
   "metadata": {
    "collapsed": true,
    "pycharm": {
     "name": "#%% md\n"
    }
   },
   "source": [
    "#  Airbnb a Berlino\n",
    "### *Data processing e exploratory data analytics sulle attività di Airbnb a Berlino.*\n",
    "Airbnb è un portale online che mette in contatto persone in cerca di un alloggio o di una camera per brevi periodi,\n",
    "con persone che dispongono di uno spazio extra da affittare, generalmente privati.\n",
    "\n",
    "Ad oggi Airbnb offre alloggi in oltre **26.000 città** in **192 paesi** con più di **10 milioni di notti prenotate**\n",
    "in tutto il mondo. <br>\n",
    "Gli annunci includono sistemazioni quali stanze private, interi appartamenti, castelli e ville,\n",
    "ma anche barche, baite, case sugli alberi, igloo, isole private e qualsiasi altro tipo di alloggio.\n",
    "<br>\n",
    "Per questa esercitazione di Big Data analizzeremo come Airbnb si sia insediato nel settore dell'ospitalità e in\n",
    "particolare a __Berlino__, uno dei mercati più caldi per Airbnb in Europa, con oltre 22.552 annunci a novembre 2018.\n",
    "<br>\n",
    "I dati utilizzati per questa esercitazione sono stati estratti nel __2018__ e contengono dati su:\n",
    "- __listing__: dati su gli annunci a Berlino;\n",
    "- __listing_summary__: dati aggiuntive riguardo gli annunci;\n",
    "- __calendar_summary__: dati dettagliati del calendario per le inserzioni a Berlino.\n",
    "\n",
    "<br>\n",
    "Il dataset è disponibile al seguente sito: https://www.kaggle.com/brittabettendorf/berlin-airbnb-data"
   ]
  },
  {
   "cell_type": "markdown",
   "metadata": {
    "pycharm": {
     "name": "#%% md\n"
    }
   },
   "source": [
    "## Importiamo i pacchetti necessari per questa esercitazione."
   ]
  },
  {
   "cell_type": "code",
   "execution_count": 1,
   "metadata": {
    "pycharm": {
     "name": "#%%\n"
    }
   },
   "outputs": [
    {
     "data": {
      "text/plain": [
       "'1.2.0'"
      ]
     },
     "execution_count": 1,
     "metadata": {},
     "output_type": "execute_result"
    }
   ],
   "source": [
    "import pandas as pd\n",
    "pd.__version__"
   ]
  },
  {
   "cell_type": "markdown",
   "metadata": {
    "pycharm": {
     "name": "#%% md\n"
    }
   },
   "source": [
    "## 1 Il dataset\n",
    "\n",
    "Il dataset è composto da 7 file.<br>\n",
    "L'identificatore univoco nel set di dati è l'__id__ di __*listing*__,\n",
    "che sostanzialmente è l'id relativo all'annuncio."
   ]
  },
  {
   "cell_type": "code",
   "execution_count": 2,
   "metadata": {
    "pycharm": {
     "name": "#%%\n"
    }
   },
   "outputs": [
    {
     "name": "stdout",
     "output_type": "stream",
     "text": [
      "['reviews.csv', 'neighbourhoods.csv', 'listings.csv', 'calendar_summary.csv', 'reviews_summary.csv', 'listings_summary.csv']\n"
     ]
    }
   ],
   "source": [
    "import os\n",
    "print(os.listdir('airbnbDataset'))"
   ]
  },
  {
   "cell_type": "code",
   "execution_count": 9,
   "metadata": {
    "pycharm": {
     "name": "#%%\n"
    }
   },
   "outputs": [],
   "source": [
    "listing = pd.read_csv('airbnbDataset/listings.csv', index_col='id')\n",
    "listing_summary = pd.read_csv('airbnbDataset/listings_summary.csv', index_col='id')\n",
    "calendar = pd.read_csv('airbnbDataset/calendar_summary.csv', index_col=['listing_id'])\n",
    "reviews_summary = pd.read_csv('airbnbDataset/reviews_summary.csv', index_col=['date'])"
   ]
  },
  {
   "cell_type": "markdown",
   "metadata": {
    "pycharm": {
     "name": "#%% md\n"
    }
   },
   "source": [
    "### 1.2 Verifichiamo le dimensioni del dataframe listing"
   ]
  },
  {
   "cell_type": "code",
   "execution_count": 10,
   "metadata": {
    "pycharm": {
     "name": "#%%\n"
    }
   },
   "outputs": [
    {
     "name": "stdout",
     "output_type": "stream",
     "text": [
      "(22552, 15)\n"
     ]
    }
   ],
   "source": [
    "print(listing.shape)"
   ]
  },
  {
   "cell_type": "markdown",
   "metadata": {
    "pycharm": {
     "name": "#%% md\n"
    }
   },
   "source": [
    "### 1.3 Verifichiamo le colonne che compongono il dataframe listing"
   ]
  },
  {
   "cell_type": "code",
   "execution_count": 11,
   "metadata": {
    "pycharm": {
     "name": "#%%\n"
    }
   },
   "outputs": [
    {
     "name": "stdout",
     "output_type": "stream",
     "text": [
      "Index(['name', 'host_id', 'host_name', 'neighbourhood_group', 'neighbourhood',\n",
      "       'latitude', 'longitude', 'room_type', 'price', 'minimum_nights',\n",
      "       'number_of_reviews', 'last_review', 'reviews_per_month',\n",
      "       'calculated_host_listings_count', 'availability_365'],\n",
      "      dtype='object')\n"
     ]
    }
   ],
   "source": [
    "print(listing.columns)"
   ]
  },
  {
   "cell_type": "markdown",
   "metadata": {
    "pycharm": {
     "name": "#%% md\n"
    }
   },
   "source": [
    "### 1.4 Verifichiamo le dimensioni del dataframe listing_summary"
   ]
  },
  {
   "cell_type": "code",
   "execution_count": 13,
   "metadata": {
    "pycharm": {
     "name": "#%%\n"
    }
   },
   "outputs": [
    {
     "name": "stdout",
     "output_type": "stream",
     "text": [
      "(22552, 95)\n",
      "Index(['listing_url', 'scrape_id', 'last_scraped', 'name', 'summary', 'space',\n",
      "       'description', 'experiences_offered', 'neighborhood_overview', 'notes',\n",
      "       'transit', 'access', 'interaction', 'house_rules', 'thumbnail_url',\n",
      "       'medium_url', 'picture_url', 'xl_picture_url', 'host_id', 'host_url',\n",
      "       'host_name', 'host_since', 'host_location', 'host_about',\n",
      "       'host_response_time', 'host_response_rate', 'host_acceptance_rate',\n",
      "       'host_is_superhost', 'host_thumbnail_url', 'host_picture_url',\n",
      "       'host_neighbourhood', 'host_listings_count',\n",
      "       'host_total_listings_count', 'host_verifications',\n",
      "       'host_has_profile_pic', 'host_identity_verified', 'street',\n",
      "       'neighbourhood', 'neighbourhood_cleansed',\n",
      "       'neighbourhood_group_cleansed', 'city', 'state', 'zipcode', 'market',\n",
      "       'smart_location', 'country_code', 'country', 'latitude', 'longitude',\n",
      "       'is_location_exact', 'property_type', 'room_type', 'accommodates',\n",
      "       'bathrooms', 'bedrooms', 'beds', 'bed_type', 'amenities', 'square_feet',\n",
      "       'price', 'weekly_price', 'monthly_price', 'security_deposit',\n",
      "       'cleaning_fee', 'guests_included', 'extra_people', 'minimum_nights',\n",
      "       'maximum_nights', 'calendar_updated', 'has_availability',\n",
      "       'availability_30', 'availability_60', 'availability_90',\n",
      "       'availability_365', 'calendar_last_scraped', 'number_of_reviews',\n",
      "       'first_review', 'last_review', 'review_scores_rating',\n",
      "       'review_scores_accuracy', 'review_scores_cleanliness',\n",
      "       'review_scores_checkin', 'review_scores_communication',\n",
      "       'review_scores_location', 'review_scores_value', 'requires_license',\n",
      "       'license', 'jurisdiction_names', 'instant_bookable',\n",
      "       'is_business_travel_ready', 'cancellation_policy',\n",
      "       'require_guest_profile_picture', 'require_guest_phone_verification',\n",
      "       'calculated_host_listings_count', 'reviews_per_month'],\n",
      "      dtype='object')\n"
     ]
    }
   ],
   "source": [
    "print(listing_summary.shape)\n",
    "print(listing_summary.columns)"
   ]
  },
  {
   "cell_type": "markdown",
   "metadata": {
    "pycharm": {
     "name": "#%% md\n"
    }
   },
   "source": [
    "Il dataframe *listing_summary* contiene 95 variabili. Per questa esercitazione terrò solo le variabili che ho ritenuto\n",
    "utili alla fase successiva di exploratory data analysis."
   ]
  },
  {
   "cell_type": "code",
   "execution_count": null,
   "metadata": {
    "pycharm": {
     "name": "#%%\n"
    }
   },
   "outputs": [],
   "source": [
    "target_columns = [\"property_type\", \"accommodates\", \"first_review\", \"review_scores_value\", \"review_scores_cleanliness\", \"review_scores_location\", \"review_scores_accuracy\", \"review_scores_communication\", \"review_scores_checkin\", \"review_scores_rating\", \"maximum_nights\", \"listing_url\", \"host_is_superhost\", \"street\",  \"market\"]\n",
    "listing = pd.merge(listing, listing_summary[target_columns], on='id', how='left')\n",
    "listing.info()"
   ]
  },
  {
   "cell_type": "markdown",
   "metadata": {
    "pycharm": {
     "name": "#%% md\n"
    }
   },
   "source": [
    "Possiamo notare come il dataframe possega la quasi totatilà delle informazioni.<br>\n",
    "Non è quindi necessaria una fase di \"pulizia\" del dataframe dalle colonne inutili. <br>\n",
    "Procediamo con le fasi successive.\n"
   ]
  }
 ],
 "metadata": {
  "kernelspec": {
   "display_name": "Python 3",
   "language": "python",
   "name": "python3"
  },
  "language_info": {
   "codemirror_mode": {
    "name": "ipython",
    "version": 3
   },
   "file_extension": ".py",
   "mimetype": "text/x-python",
   "name": "python",
   "nbconvert_exporter": "python",
   "pygments_lexer": "ipython3",
   "version": "3.9.0"
  }
 },
 "nbformat": 4,
 "nbformat_minor": 1
}